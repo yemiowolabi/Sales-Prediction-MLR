{
 "cells": [
  {
   "cell_type": "markdown",
   "metadata": {},
   "source": [
    "## SALES PREDICTION PROJECT"
   ]
  },
  {
   "cell_type": "markdown",
   "metadata": {},
   "source": [
    "### Abstract:\n",
    "\n",
    "This is a short task of developing a multiple linear regression model for predicting sales of a particular product in respect of variables denoting the costs of advert on Newspaper, TV and Radio.\n",
    "\n",
    "Since the response variable **(sales)** is continuous, a multiple linear regression machine learning approach was used in building a function that enables us to predict the sales given other predictor variables. The task was carried out in stages such as data preprocessing, splitting dataset into testing and training, model formulation, carrying out prediction, determining the accuracy of the model, and giving conclusion. \n",
    "\n",
    "The result shows that high cost of advert on TV tends to increase sales."
   ]
  },
  {
   "cell_type": "markdown",
   "metadata": {},
   "source": [
    "# STAGE 1\n",
    "## The first stage is to import necessary packages/modules and submodules. Here, we are to use **pandas**, **seaborn**, **numpy**, **matplotlib** and other submodules in **sklearn**."
   ]
  },
  {
   "cell_type": "code",
   "execution_count": 1,
   "metadata": {},
   "outputs": [],
   "source": [
    "import pandas as pd\n",
    "import numpy as np\n",
    "import matplotlib.pyplot as plt \n",
    "import seaborn as sns\n",
    "from sklearn.model_selection import train_test_split\n",
    "from sklearn.linear_model import LinearRegression \n",
    "from sklearn.metrics import mean_squared_error, mean_absolute_error, r2_score\n",
    "import warnings\n",
    "warnings.filterwarnings(\"ignore\")"
   ]
  },
  {
   "cell_type": "markdown",
   "metadata": {},
   "source": [
    "# STAGE 2\n",
    "## Reading Dataset and its Features Explanation"
   ]
  },
  {
   "cell_type": "code",
   "execution_count": 2,
   "metadata": {},
   "outputs": [
    {
     "data": {
      "text/html": [
       "<div>\n",
       "<style scoped>\n",
       "    .dataframe tbody tr th:only-of-type {\n",
       "        vertical-align: middle;\n",
       "    }\n",
       "\n",
       "    .dataframe tbody tr th {\n",
       "        vertical-align: top;\n",
       "    }\n",
       "\n",
       "    .dataframe thead th {\n",
       "        text-align: right;\n",
       "    }\n",
       "</style>\n",
       "<table border=\"1\" class=\"dataframe\">\n",
       "  <thead>\n",
       "    <tr style=\"text-align: right;\">\n",
       "      <th></th>\n",
       "      <th>TV</th>\n",
       "      <th>Radio</th>\n",
       "      <th>Newspaper</th>\n",
       "      <th>Sales</th>\n",
       "    </tr>\n",
       "  </thead>\n",
       "  <tbody>\n",
       "    <tr>\n",
       "      <th>0</th>\n",
       "      <td>230.1</td>\n",
       "      <td>37.8</td>\n",
       "      <td>69.2</td>\n",
       "      <td>22.1</td>\n",
       "    </tr>\n",
       "    <tr>\n",
       "      <th>1</th>\n",
       "      <td>44.5</td>\n",
       "      <td>39.3</td>\n",
       "      <td>45.1</td>\n",
       "      <td>10.4</td>\n",
       "    </tr>\n",
       "    <tr>\n",
       "      <th>2</th>\n",
       "      <td>17.2</td>\n",
       "      <td>45.9</td>\n",
       "      <td>69.3</td>\n",
       "      <td>12.0</td>\n",
       "    </tr>\n",
       "    <tr>\n",
       "      <th>3</th>\n",
       "      <td>151.5</td>\n",
       "      <td>41.3</td>\n",
       "      <td>58.5</td>\n",
       "      <td>16.5</td>\n",
       "    </tr>\n",
       "    <tr>\n",
       "      <th>4</th>\n",
       "      <td>180.8</td>\n",
       "      <td>10.8</td>\n",
       "      <td>58.4</td>\n",
       "      <td>17.9</td>\n",
       "    </tr>\n",
       "    <tr>\n",
       "      <th>...</th>\n",
       "      <td>...</td>\n",
       "      <td>...</td>\n",
       "      <td>...</td>\n",
       "      <td>...</td>\n",
       "    </tr>\n",
       "    <tr>\n",
       "      <th>195</th>\n",
       "      <td>38.2</td>\n",
       "      <td>3.7</td>\n",
       "      <td>13.8</td>\n",
       "      <td>7.6</td>\n",
       "    </tr>\n",
       "    <tr>\n",
       "      <th>196</th>\n",
       "      <td>94.2</td>\n",
       "      <td>4.9</td>\n",
       "      <td>8.1</td>\n",
       "      <td>14.0</td>\n",
       "    </tr>\n",
       "    <tr>\n",
       "      <th>197</th>\n",
       "      <td>177.0</td>\n",
       "      <td>9.3</td>\n",
       "      <td>6.4</td>\n",
       "      <td>14.8</td>\n",
       "    </tr>\n",
       "    <tr>\n",
       "      <th>198</th>\n",
       "      <td>283.6</td>\n",
       "      <td>42.0</td>\n",
       "      <td>66.2</td>\n",
       "      <td>25.5</td>\n",
       "    </tr>\n",
       "    <tr>\n",
       "      <th>199</th>\n",
       "      <td>232.1</td>\n",
       "      <td>8.6</td>\n",
       "      <td>8.7</td>\n",
       "      <td>18.4</td>\n",
       "    </tr>\n",
       "  </tbody>\n",
       "</table>\n",
       "<p>200 rows × 4 columns</p>\n",
       "</div>"
      ],
      "text/plain": [
       "        TV  Radio  Newspaper  Sales\n",
       "0    230.1   37.8       69.2   22.1\n",
       "1     44.5   39.3       45.1   10.4\n",
       "2     17.2   45.9       69.3   12.0\n",
       "3    151.5   41.3       58.5   16.5\n",
       "4    180.8   10.8       58.4   17.9\n",
       "..     ...    ...        ...    ...\n",
       "195   38.2    3.7       13.8    7.6\n",
       "196   94.2    4.9        8.1   14.0\n",
       "197  177.0    9.3        6.4   14.8\n",
       "198  283.6   42.0       66.2   25.5\n",
       "199  232.1    8.6        8.7   18.4\n",
       "\n",
       "[200 rows x 4 columns]"
      ]
     },
     "execution_count": 2,
     "metadata": {},
     "output_type": "execute_result"
    }
   ],
   "source": [
    "advert = pd.read_csv(\"advertising.csv\")\n",
    "advert"
   ]
  },
  {
   "cell_type": "markdown",
   "metadata": {},
   "source": [
    "### The above cell tells us that our data is comprised of 200 rows and 4 columns."
   ]
  },
  {
   "cell_type": "code",
   "execution_count": 3,
   "metadata": {},
   "outputs": [
    {
     "name": "stdout",
     "output_type": "stream",
     "text": [
      "Number of rows in the dataset is: 200\n",
      "Number of columns in the dataset is: 4\n"
     ]
    }
   ],
   "source": [
    "nrow, ncol = advert.shape\n",
    "print(f\"Number of rows in the dataset is: {nrow}\")\n",
    "print(f\"Number of columns in the dataset is: {ncol}\")"
   ]
  },
  {
   "cell_type": "code",
   "execution_count": 4,
   "metadata": {},
   "outputs": [
    {
     "name": "stdout",
     "output_type": "stream",
     "text": [
      "<class 'pandas.core.frame.DataFrame'>\n",
      "RangeIndex: 200 entries, 0 to 199\n",
      "Data columns (total 4 columns):\n",
      " #   Column     Non-Null Count  Dtype  \n",
      "---  ------     --------------  -----  \n",
      " 0   TV         200 non-null    float64\n",
      " 1   Radio      200 non-null    float64\n",
      " 2   Newspaper  200 non-null    float64\n",
      " 3   Sales      200 non-null    float64\n",
      "dtypes: float64(4)\n",
      "memory usage: 6.4 KB\n"
     ]
    }
   ],
   "source": [
    "advert.info()"
   ]
  },
  {
   "cell_type": "markdown",
   "metadata": {},
   "source": [
    "### Reading the dataset (advertising) gives us the chance to peruse and decide on the appropriate model. The features of the dataset are as follows:\n",
    "\n",
    "## Features Explanation\n",
    "### TV: Advertising dollars spent on TV for a single product in a given market (in thousand of dollars).\n",
    "### Radio: Advertising dollars spent on Radio. \n",
    "### Newspaper: Adevrtising dollars spent on Newspaper. \n",
    "### Sales of a single product in a given market (in thousands of dollars).\n",
    "\n",
    "## Variables Description\n",
    "### Response variable (y):\n",
    "#### The response variable $(y)$ in the dataset is the Sales. It is to be determined in terms of the other variables.\n",
    "\n",
    "### Predictor variables/regressors:\n",
    "#### The other three columns of TV, Radio and Newspaper are the predictors or the explanatory variables as $y$ depends on their values.\n",
    "### Also, as seen in the cell above, the dataset contains 200 rows and 4 columns. In addition, the data type in each of the columns is floating point numbers (float)."
   ]
  },
  {
   "cell_type": "markdown",
   "metadata": {},
   "source": [
    "# STAGE 3\n",
    "## Description of the Dataset & Relationship Exploration\n"
   ]
  },
  {
   "cell_type": "code",
   "execution_count": 5,
   "metadata": {},
   "outputs": [
    {
     "data": {
      "text/html": [
       "<div>\n",
       "<style scoped>\n",
       "    .dataframe tbody tr th:only-of-type {\n",
       "        vertical-align: middle;\n",
       "    }\n",
       "\n",
       "    .dataframe tbody tr th {\n",
       "        vertical-align: top;\n",
       "    }\n",
       "\n",
       "    .dataframe thead th {\n",
       "        text-align: right;\n",
       "    }\n",
       "</style>\n",
       "<table border=\"1\" class=\"dataframe\">\n",
       "  <thead>\n",
       "    <tr style=\"text-align: right;\">\n",
       "      <th></th>\n",
       "      <th>TV</th>\n",
       "      <th>Radio</th>\n",
       "      <th>Newspaper</th>\n",
       "      <th>Sales</th>\n",
       "    </tr>\n",
       "  </thead>\n",
       "  <tbody>\n",
       "    <tr>\n",
       "      <th>count</th>\n",
       "      <td>200.000000</td>\n",
       "      <td>200.000000</td>\n",
       "      <td>200.000000</td>\n",
       "      <td>200.000000</td>\n",
       "    </tr>\n",
       "    <tr>\n",
       "      <th>mean</th>\n",
       "      <td>147.042500</td>\n",
       "      <td>23.264000</td>\n",
       "      <td>30.554000</td>\n",
       "      <td>15.130500</td>\n",
       "    </tr>\n",
       "    <tr>\n",
       "      <th>std</th>\n",
       "      <td>85.854236</td>\n",
       "      <td>14.846809</td>\n",
       "      <td>21.778621</td>\n",
       "      <td>5.283892</td>\n",
       "    </tr>\n",
       "    <tr>\n",
       "      <th>min</th>\n",
       "      <td>0.700000</td>\n",
       "      <td>0.000000</td>\n",
       "      <td>0.300000</td>\n",
       "      <td>1.600000</td>\n",
       "    </tr>\n",
       "    <tr>\n",
       "      <th>25%</th>\n",
       "      <td>74.375000</td>\n",
       "      <td>9.975000</td>\n",
       "      <td>12.750000</td>\n",
       "      <td>11.000000</td>\n",
       "    </tr>\n",
       "    <tr>\n",
       "      <th>50%</th>\n",
       "      <td>149.750000</td>\n",
       "      <td>22.900000</td>\n",
       "      <td>25.750000</td>\n",
       "      <td>16.000000</td>\n",
       "    </tr>\n",
       "    <tr>\n",
       "      <th>75%</th>\n",
       "      <td>218.825000</td>\n",
       "      <td>36.525000</td>\n",
       "      <td>45.100000</td>\n",
       "      <td>19.050000</td>\n",
       "    </tr>\n",
       "    <tr>\n",
       "      <th>max</th>\n",
       "      <td>296.400000</td>\n",
       "      <td>49.600000</td>\n",
       "      <td>114.000000</td>\n",
       "      <td>27.000000</td>\n",
       "    </tr>\n",
       "  </tbody>\n",
       "</table>\n",
       "</div>"
      ],
      "text/plain": [
       "               TV       Radio   Newspaper       Sales\n",
       "count  200.000000  200.000000  200.000000  200.000000\n",
       "mean   147.042500   23.264000   30.554000   15.130500\n",
       "std     85.854236   14.846809   21.778621    5.283892\n",
       "min      0.700000    0.000000    0.300000    1.600000\n",
       "25%     74.375000    9.975000   12.750000   11.000000\n",
       "50%    149.750000   22.900000   25.750000   16.000000\n",
       "75%    218.825000   36.525000   45.100000   19.050000\n",
       "max    296.400000   49.600000  114.000000   27.000000"
      ]
     },
     "execution_count": 5,
     "metadata": {},
     "output_type": "execute_result"
    }
   ],
   "source": [
    "advert.describe()"
   ]
  },
  {
   "cell_type": "markdown",
   "metadata": {},
   "source": [
    "The dataframe above gives the description or summary of our dataset. It is obvious that there are no missing values in any columns of the dataset since the count of each is 200. The mean, minimum value, maximum value, standard deviation and percentiles are displayed as well.\n",
    "\n",
    "Moreover, it can be deduced from the description data frame that the values of the observation in each column follow an even sequence and there no observed outliers in each column, except that of **Newspaper**. This is observed by considering the minimum value, percentile values and the maximum value. It can be seen that the $75^{th}$ percentile value of Newspaper **(45.1)** is quite far away from the maximum value **(114)**, if compared with its other values.\n",
    "\n",
    "To justify this, we can give the boxplots as seen below:"
   ]
  },
  {
   "cell_type": "code",
   "execution_count": 6,
   "metadata": {},
   "outputs": [
    {
     "data": {
      "image/png": "[encoded data removed]",
      "text/plain": [
       "<Figure size 1440x360 with 4 Axes>"
      ]
     },
     "metadata": {
      "needs_background": "light"
     },
     "output_type": "display_data"
    }
   ],
   "source": [
    "fig, axes = plt.subplots(ncols = 4, figsize = (20, 5))\n",
    "list1 = ['TV','Newspaper','Radio', \"Sales\"]\n",
    "for i in range(4):\n",
    "    sns.boxplot(advert[list1[i]], ax = axes[i]);"
   ]
  },
  {
   "cell_type": "markdown",
   "metadata": {},
   "source": [
    "### Outlier Treatment in Cost of Newspaper"
   ]
  },
  {
   "cell_type": "markdown",
   "metadata": {},
   "source": [
    "Here, we try to take care of the outlier in the newspaper column using the capping and florring method, which generally involves imputing the values above by $3 * 99^{th}$ percentile and values below by $0.3 * 1^{st}$ Percentile.  However, the multiplier here may be determined intuitively considering the values of the variable or business sense generally.\n"
   ]
  },
  {
   "cell_type": "code",
   "execution_count": 7,
   "metadata": {},
   "outputs": [
    {
     "data": {
      "text/plain": [
       "count    200.000000\n",
       "mean      30.374500\n",
       "std       21.197608\n",
       "min        0.300000\n",
       "25%       12.750000\n",
       "50%       25.750000\n",
       "75%       45.100000\n",
       "max       89.500000\n",
       "Name: Newspaper, dtype: float64"
      ]
     },
     "execution_count": 7,
     "metadata": {},
     "output_type": "execute_result"
    }
   ],
   "source": [
    "uv = np.quantile(advert[\"Newspaper\"], 0.99)\n",
    "advert[\"Newspaper\"][advert[\"Newspaper\"] > uv] = round(uv, 1)\n",
    "advert[\"Newspaper\"].describe()"
   ]
  },
  {
   "cell_type": "code",
   "execution_count": 8,
   "metadata": {},
   "outputs": [
    {
     "data": {
      "image/png": "[encoded data removed]",
      "text/plain": [
       "<Figure size 432x288 with 1 Axes>"
      ]
     },
     "metadata": {
      "needs_background": "light"
     },
     "output_type": "display_data"
    }
   ],
   "source": [
    "sns.boxplot(advert[\"Newspaper\"], color = \"darkgreen\");"
   ]
  },
  {
   "cell_type": "code",
   "execution_count": 9,
   "metadata": {
    "scrolled": true
   },
   "outputs": [
    {
     "data": {
      "text/html": [
       "<div>\n",
       "<style scoped>\n",
       "    .dataframe tbody tr th:only-of-type {\n",
       "        vertical-align: middle;\n",
       "    }\n",
       "\n",
       "    .dataframe tbody tr th {\n",
       "        vertical-align: top;\n",
       "    }\n",
       "\n",
       "    .dataframe thead th {\n",
       "        text-align: right;\n",
       "    }\n",
       "</style>\n",
       "<table border=\"1\" class=\"dataframe\">\n",
       "  <thead>\n",
       "    <tr style=\"text-align: right;\">\n",
       "      <th></th>\n",
       "      <th>TV</th>\n",
       "      <th>Radio</th>\n",
       "      <th>Newspaper</th>\n",
       "      <th>Sales</th>\n",
       "    </tr>\n",
       "  </thead>\n",
       "  <tbody>\n",
       "    <tr>\n",
       "      <th>TV</th>\n",
       "      <td>1.000000</td>\n",
       "      <td>0.054809</td>\n",
       "      <td>0.058860</td>\n",
       "      <td>0.901208</td>\n",
       "    </tr>\n",
       "    <tr>\n",
       "      <th>Radio</th>\n",
       "      <td>0.054809</td>\n",
       "      <td>1.000000</td>\n",
       "      <td>0.356220</td>\n",
       "      <td>0.349631</td>\n",
       "    </tr>\n",
       "    <tr>\n",
       "      <th>Newspaper</th>\n",
       "      <td>0.058860</td>\n",
       "      <td>0.356220</td>\n",
       "      <td>1.000000</td>\n",
       "      <td>0.160747</td>\n",
       "    </tr>\n",
       "    <tr>\n",
       "      <th>Sales</th>\n",
       "      <td>0.901208</td>\n",
       "      <td>0.349631</td>\n",
       "      <td>0.160747</td>\n",
       "      <td>1.000000</td>\n",
       "    </tr>\n",
       "  </tbody>\n",
       "</table>\n",
       "</div>"
      ],
      "text/plain": [
       "                 TV     Radio  Newspaper     Sales\n",
       "TV         1.000000  0.054809   0.058860  0.901208\n",
       "Radio      0.054809  1.000000   0.356220  0.349631\n",
       "Newspaper  0.058860  0.356220   1.000000  0.160747\n",
       "Sales      0.901208  0.349631   0.160747  1.000000"
      ]
     },
     "execution_count": 9,
     "metadata": {},
     "output_type": "execute_result"
    }
   ],
   "source": [
    "corr_matrix = advert.corr() #Correlation Matrix\n",
    "corr_matrix"
   ]
  },
  {
   "cell_type": "markdown",
   "metadata": {},
   "source": [
    "## Correlation Matrix\n",
    "### The frame above gives the correlation matrix that shows the extent of association between any pair of the variables. The diagonal elements are always 1 because the correlation between a variable and itself is 1.\n",
    "### Correlation between cost of advert on TV and Sales is about 0.9. This implies a strong positive correlation between the two variables; that is, the more money spent on TV advert, the more sales that would be realised.\n",
    "### However, the correlation between cost of advert on Radio and Sales is 0.35; the correlation between cost of advert on Newspaper and Sales is 0.16. Both imply that there are weak but positive correlation between the pair of Cost of advert on Radio alongside Sales, as well as cost of advert on Newspaper alongside the Sale."
   ]
  },
  {
   "cell_type": "code",
   "execution_count": 10,
   "metadata": {
    "scrolled": true
   },
   "outputs": [
    {
     "data": {
      "image/png": "[encoded data removed]",
      "text/plain": [
       "<Figure size 432x288 with 2 Axes>"
      ]
     },
     "metadata": {
      "needs_background": "light"
     },
     "output_type": "display_data"
    }
   ],
   "source": [
    "sns.heatmap(corr_matrix)\n",
    "plt.show()"
   ]
  },
  {
   "cell_type": "markdown",
   "metadata": {},
   "source": [
    "## Heat Map of Correlation Matrix\n",
    "\n",
    "### To make the correlation matrix attractive, it is presented by the heatmap figure as seen above. The brighter the colour in each cell (intersection of a row and column), the stronger the correlation is. In the same vein, the deeper the colour of a cell, the weaker the correlation. For instance, with respect to an explanatory variable and the response variable (Sales) only, the correlation between Newspaper and Sales is seen to be in the weak region with the aid of its deep colour and the correlation scale. Also, the correlation between TV and Sales is really strong since its cell is lighter, that is, close to 1."
   ]
  },
  {
   "cell_type": "code",
   "execution_count": 11,
   "metadata": {},
   "outputs": [
    {
     "data": {
      "image/png": "[encoded data removed]",
      "text/plain": [
       "<Figure size 1440x360 with 3 Axes>"
      ]
     },
     "metadata": {
      "needs_background": "light"
     },
     "output_type": "display_data"
    }
   ],
   "source": [
    "\n",
    "fig, axs = plt.subplots(ncols=3, figsize = (20, 5))\n",
    "sns.scatterplot(data = advert, x = 'TV', y = 'Sales',ax=axs[0], color = \"g\")\n",
    "sns.scatterplot(data = advert, x = 'Radio', y = 'Sales',ax=axs[1], color = \"r\")\n",
    "sns.scatterplot(data = advert, x = 'Newspaper', y = 'Sales',ax=axs[2], color = \"purple\");"
   ]
  },
  {
   "cell_type": "markdown",
   "metadata": {},
   "source": [
    "### The scatterplots above corrobate the previous explanation about the relationships between the individual predictor variable and the response variable. They also show that the predictor variables have a linear relationship with the response variable (sales)."
   ]
  },
  {
   "cell_type": "markdown",
   "metadata": {},
   "source": [
    "### The next step represented in the cells below are to extract and print the explanatory variables (X) as well as the response variable (y)."
   ]
  },
  {
   "cell_type": "markdown",
   "metadata": {},
   "source": [
    "# STAGE 4\n",
    "## Extracting and Printing the Group of Variables (Explanatory & Response)"
   ]
  },
  {
   "cell_type": "code",
   "execution_count": 12,
   "metadata": {
    "scrolled": false
   },
   "outputs": [
    {
     "name": "stdout",
     "output_type": "stream",
     "text": [
      "[[230.1  37.8  69.2]\n",
      " [ 44.5  39.3  45.1]\n",
      " [ 17.2  45.9  69.3]\n",
      " [151.5  41.3  58.5]\n",
      " [180.8  10.8  58.4]\n",
      " [  8.7  48.9  75. ]\n",
      " [ 57.5  32.8  23.5]\n",
      " [120.2  19.6  11.6]\n",
      " [  8.6   2.1   1. ]\n",
      " [199.8   2.6  21.2]\n",
      " [ 66.1   5.8  24.2]\n",
      " [214.7  24.    4. ]\n",
      " [ 23.8  35.1  65.9]\n",
      " [ 97.5   7.6   7.2]\n",
      " [204.1  32.9  46. ]\n",
      " [195.4  47.7  52.9]\n",
      " [ 67.8  36.6  89.5]\n",
      " [281.4  39.6  55.8]\n",
      " [ 69.2  20.5  18.3]\n",
      " [147.3  23.9  19.1]\n",
      " [218.4  27.7  53.4]\n",
      " [237.4   5.1  23.5]\n",
      " [ 13.2  15.9  49.6]\n",
      " [228.3  16.9  26.2]\n",
      " [ 62.3  12.6  18.3]\n",
      " [262.9   3.5  19.5]\n",
      " [142.9  29.3  12.6]\n",
      " [240.1  16.7  22.9]\n",
      " [248.8  27.1  22.9]\n",
      " [ 70.6  16.   40.8]\n",
      " [292.9  28.3  43.2]\n",
      " [112.9  17.4  38.6]\n",
      " [ 97.2   1.5  30. ]\n",
      " [265.6  20.    0.3]\n",
      " [ 95.7   1.4   7.4]\n",
      " [290.7   4.1   8.5]\n",
      " [266.9  43.8   5. ]\n",
      " [ 74.7  49.4  45.7]\n",
      " [ 43.1  26.7  35.1]\n",
      " [228.   37.7  32. ]\n",
      " [202.5  22.3  31.6]\n",
      " [177.   33.4  38.7]\n",
      " [293.6  27.7   1.8]\n",
      " [206.9   8.4  26.4]\n",
      " [ 25.1  25.7  43.3]\n",
      " [175.1  22.5  31.5]\n",
      " [ 89.7   9.9  35.7]\n",
      " [239.9  41.5  18.5]\n",
      " [227.2  15.8  49.9]\n",
      " [ 66.9  11.7  36.8]\n",
      " [199.8   3.1  34.6]\n",
      " [100.4   9.6   3.6]\n",
      " [216.4  41.7  39.6]\n",
      " [182.6  46.2  58.7]\n",
      " [262.7  28.8  15.9]\n",
      " [198.9  49.4  60. ]\n",
      " [  7.3  28.1  41.4]\n",
      " [136.2  19.2  16.6]\n",
      " [210.8  49.6  37.7]\n",
      " [210.7  29.5   9.3]\n",
      " [ 53.5   2.   21.4]\n",
      " [261.3  42.7  54.7]\n",
      " [239.3  15.5  27.3]\n",
      " [102.7  29.6   8.4]\n",
      " [131.1  42.8  28.9]\n",
      " [ 69.    9.3   0.9]\n",
      " [ 31.5  24.6   2.2]\n",
      " [139.3  14.5  10.2]\n",
      " [237.4  27.5  11. ]\n",
      " [216.8  43.9  27.2]\n",
      " [199.1  30.6  38.7]\n",
      " [109.8  14.3  31.7]\n",
      " [ 26.8  33.   19.3]\n",
      " [129.4   5.7  31.3]\n",
      " [213.4  24.6  13.1]\n",
      " [ 16.9  43.7  89.4]\n",
      " [ 27.5   1.6  20.7]\n",
      " [120.5  28.5  14.2]\n",
      " [  5.4  29.9   9.4]\n",
      " [116.    7.7  23.1]\n",
      " [ 76.4  26.7  22.3]\n",
      " [239.8   4.1  36.9]\n",
      " [ 75.3  20.3  32.5]\n",
      " [ 68.4  44.5  35.6]\n",
      " [213.5  43.   33.8]\n",
      " [193.2  18.4  65.7]\n",
      " [ 76.3  27.5  16. ]\n",
      " [110.7  40.6  63.2]\n",
      " [ 88.3  25.5  73.4]\n",
      " [109.8  47.8  51.4]\n",
      " [134.3   4.9   9.3]\n",
      " [ 28.6   1.5  33. ]\n",
      " [217.7  33.5  59. ]\n",
      " [250.9  36.5  72.3]\n",
      " [107.4  14.   10.9]\n",
      " [163.3  31.6  52.9]\n",
      " [197.6   3.5   5.9]\n",
      " [184.9  21.   22. ]\n",
      " [289.7  42.3  51.2]\n",
      " [135.2  41.7  45.9]\n",
      " [222.4   4.3  49.8]\n",
      " [296.4  36.3  89.5]\n",
      " [280.2  10.1  21.4]\n",
      " [187.9  17.2  17.9]\n",
      " [238.2  34.3   5.3]\n",
      " [137.9  46.4  59. ]\n",
      " [ 25.   11.   29.7]\n",
      " [ 90.4   0.3  23.2]\n",
      " [ 13.1   0.4  25.6]\n",
      " [255.4  26.9   5.5]\n",
      " [225.8   8.2  56.5]\n",
      " [241.7  38.   23.2]\n",
      " [175.7  15.4   2.4]\n",
      " [209.6  20.6  10.7]\n",
      " [ 78.2  46.8  34.5]\n",
      " [ 75.1  35.   52.7]\n",
      " [139.2  14.3  25.6]\n",
      " [ 76.4   0.8  14.8]\n",
      " [125.7  36.9  79.2]\n",
      " [ 19.4  16.   22.3]\n",
      " [141.3  26.8  46.2]\n",
      " [ 18.8  21.7  50.4]\n",
      " [224.    2.4  15.6]\n",
      " [123.1  34.6  12.4]\n",
      " [229.5  32.3  74.2]\n",
      " [ 87.2  11.8  25.9]\n",
      " [  7.8  38.9  50.6]\n",
      " [ 80.2   0.    9.2]\n",
      " [220.3  49.    3.2]\n",
      " [ 59.6  12.   43.1]\n",
      " [  0.7  39.6   8.7]\n",
      " [265.2   2.9  43. ]\n",
      " [  8.4  27.2   2.1]\n",
      " [219.8  33.5  45.1]\n",
      " [ 36.9  38.6  65.6]\n",
      " [ 48.3  47.    8.5]\n",
      " [ 25.6  39.    9.3]\n",
      " [273.7  28.9  59.7]\n",
      " [ 43.   25.9  20.5]\n",
      " [184.9  43.9   1.7]\n",
      " [ 73.4  17.   12.9]\n",
      " [193.7  35.4  75.6]\n",
      " [220.5  33.2  37.9]\n",
      " [104.6   5.7  34.4]\n",
      " [ 96.2  14.8  38.9]\n",
      " [140.3   1.9   9. ]\n",
      " [240.1   7.3   8.7]\n",
      " [243.2  49.   44.3]\n",
      " [ 38.   40.3  11.9]\n",
      " [ 44.7  25.8  20.6]\n",
      " [280.7  13.9  37. ]\n",
      " [121.    8.4  48.7]\n",
      " [197.6  23.3  14.2]\n",
      " [171.3  39.7  37.7]\n",
      " [187.8  21.1   9.5]\n",
      " [  4.1  11.6   5.7]\n",
      " [ 93.9  43.5  50.5]\n",
      " [149.8   1.3  24.3]\n",
      " [ 11.7  36.9  45.2]\n",
      " [131.7  18.4  34.6]\n",
      " [172.5  18.1  30.7]\n",
      " [ 85.7  35.8  49.3]\n",
      " [188.4  18.1  25.6]\n",
      " [163.5  36.8   7.4]\n",
      " [117.2  14.7   5.4]\n",
      " [234.5   3.4  84.8]\n",
      " [ 17.9  37.6  21.6]\n",
      " [206.8   5.2  19.4]\n",
      " [215.4  23.6  57.6]\n",
      " [284.3  10.6   6.4]\n",
      " [ 50.   11.6  18.4]\n",
      " [164.5  20.9  47.4]\n",
      " [ 19.6  20.1  17. ]\n",
      " [168.4   7.1  12.8]\n",
      " [222.4   3.4  13.1]\n",
      " [276.9  48.9  41.8]\n",
      " [248.4  30.2  20.3]\n",
      " [170.2   7.8  35.2]\n",
      " [276.7   2.3  23.7]\n",
      " [165.6  10.   17.6]\n",
      " [156.6   2.6   8.3]\n",
      " [218.5   5.4  27.4]\n",
      " [ 56.2   5.7  29.7]\n",
      " [287.6  43.   71.8]\n",
      " [253.8  21.3  30. ]\n",
      " [205.   45.1  19.6]\n",
      " [139.5   2.1  26.6]\n",
      " [191.1  28.7  18.2]\n",
      " [286.   13.9   3.7]\n",
      " [ 18.7  12.1  23.4]\n",
      " [ 39.5  41.1   5.8]\n",
      " [ 75.5  10.8   6. ]\n",
      " [ 17.2   4.1  31.6]\n",
      " [166.8  42.    3.6]\n",
      " [149.7  35.6   6. ]\n",
      " [ 38.2   3.7  13.8]\n",
      " [ 94.2   4.9   8.1]\n",
      " [177.    9.3   6.4]\n",
      " [283.6  42.   66.2]\n",
      " [232.1   8.6   8.7]]\n"
     ]
    }
   ],
   "source": [
    "X = advert[['TV', 'Radio', 'Newspaper']].values\n",
    "print(X)\n"
   ]
  },
  {
   "cell_type": "code",
   "execution_count": 13,
   "metadata": {
    "scrolled": false
   },
   "outputs": [
    {
     "name": "stdout",
     "output_type": "stream",
     "text": [
      "[[22.1]\n",
      " [10.4]\n",
      " [12. ]\n",
      " [16.5]\n",
      " [17.9]\n",
      " [ 7.2]\n",
      " [11.8]\n",
      " [13.2]\n",
      " [ 4.8]\n",
      " [15.6]\n",
      " [12.6]\n",
      " [17.4]\n",
      " [ 9.2]\n",
      " [13.7]\n",
      " [19. ]\n",
      " [22.4]\n",
      " [12.5]\n",
      " [24.4]\n",
      " [11.3]\n",
      " [14.6]\n",
      " [18. ]\n",
      " [17.5]\n",
      " [ 5.6]\n",
      " [20.5]\n",
      " [ 9.7]\n",
      " [17. ]\n",
      " [15. ]\n",
      " [20.9]\n",
      " [18.9]\n",
      " [10.5]\n",
      " [21.4]\n",
      " [11.9]\n",
      " [13.2]\n",
      " [17.4]\n",
      " [11.9]\n",
      " [17.8]\n",
      " [25.4]\n",
      " [14.7]\n",
      " [10.1]\n",
      " [21.5]\n",
      " [16.6]\n",
      " [17.1]\n",
      " [20.7]\n",
      " [17.9]\n",
      " [ 8.5]\n",
      " [16.1]\n",
      " [10.6]\n",
      " [23.2]\n",
      " [19.8]\n",
      " [ 9.7]\n",
      " [16.4]\n",
      " [10.7]\n",
      " [22.6]\n",
      " [21.2]\n",
      " [20.2]\n",
      " [23.7]\n",
      " [ 5.5]\n",
      " [13.2]\n",
      " [23.8]\n",
      " [18.4]\n",
      " [ 8.1]\n",
      " [24.2]\n",
      " [20.7]\n",
      " [14. ]\n",
      " [16. ]\n",
      " [11.3]\n",
      " [11. ]\n",
      " [13.4]\n",
      " [18.9]\n",
      " [22.3]\n",
      " [18.3]\n",
      " [12.4]\n",
      " [ 8.8]\n",
      " [11. ]\n",
      " [17. ]\n",
      " [ 8.7]\n",
      " [ 6.9]\n",
      " [14.2]\n",
      " [ 5.3]\n",
      " [11. ]\n",
      " [11.8]\n",
      " [17.3]\n",
      " [11.3]\n",
      " [13.6]\n",
      " [21.7]\n",
      " [20.2]\n",
      " [12. ]\n",
      " [16. ]\n",
      " [12.9]\n",
      " [16.7]\n",
      " [14. ]\n",
      " [ 7.3]\n",
      " [19.4]\n",
      " [22.2]\n",
      " [11.5]\n",
      " [16.9]\n",
      " [16.7]\n",
      " [20.5]\n",
      " [25.4]\n",
      " [17.2]\n",
      " [16.7]\n",
      " [23.8]\n",
      " [19.8]\n",
      " [19.7]\n",
      " [20.7]\n",
      " [15. ]\n",
      " [ 7.2]\n",
      " [12. ]\n",
      " [ 5.3]\n",
      " [19.8]\n",
      " [18.4]\n",
      " [21.8]\n",
      " [17.1]\n",
      " [20.9]\n",
      " [14.6]\n",
      " [12.6]\n",
      " [12.2]\n",
      " [ 9.4]\n",
      " [15.9]\n",
      " [ 6.6]\n",
      " [15.5]\n",
      " [ 7. ]\n",
      " [16.6]\n",
      " [15.2]\n",
      " [19.7]\n",
      " [10.6]\n",
      " [ 6.6]\n",
      " [11.9]\n",
      " [24.7]\n",
      " [ 9.7]\n",
      " [ 1.6]\n",
      " [17.7]\n",
      " [ 5.7]\n",
      " [19.6]\n",
      " [10.8]\n",
      " [11.6]\n",
      " [ 9.5]\n",
      " [20.8]\n",
      " [ 9.6]\n",
      " [20.7]\n",
      " [10.9]\n",
      " [19.2]\n",
      " [20.1]\n",
      " [10.4]\n",
      " [12.3]\n",
      " [10.3]\n",
      " [18.2]\n",
      " [25.4]\n",
      " [10.9]\n",
      " [10.1]\n",
      " [16.1]\n",
      " [11.6]\n",
      " [16.6]\n",
      " [16. ]\n",
      " [20.6]\n",
      " [ 3.2]\n",
      " [15.3]\n",
      " [10.1]\n",
      " [ 7.3]\n",
      " [12.9]\n",
      " [16.4]\n",
      " [13.3]\n",
      " [19.9]\n",
      " [18. ]\n",
      " [11.9]\n",
      " [16.9]\n",
      " [ 8. ]\n",
      " [17.2]\n",
      " [17.1]\n",
      " [20. ]\n",
      " [ 8.4]\n",
      " [17.5]\n",
      " [ 7.6]\n",
      " [16.7]\n",
      " [16.5]\n",
      " [27. ]\n",
      " [20.2]\n",
      " [16.7]\n",
      " [16.8]\n",
      " [17.6]\n",
      " [15.5]\n",
      " [17.2]\n",
      " [ 8.7]\n",
      " [26.2]\n",
      " [17.6]\n",
      " [22.6]\n",
      " [10.3]\n",
      " [17.3]\n",
      " [20.9]\n",
      " [ 6.7]\n",
      " [10.8]\n",
      " [11.9]\n",
      " [ 5.9]\n",
      " [19.6]\n",
      " [17.3]\n",
      " [ 7.6]\n",
      " [14. ]\n",
      " [14.8]\n",
      " [25.5]\n",
      " [18.4]]\n"
     ]
    }
   ],
   "source": [
    "y = advert[['Sales']].values\n",
    "print(y)\n"
   ]
  },
  {
   "cell_type": "markdown",
   "metadata": {},
   "source": [
    "# STAGE 5\n",
    "# Dividing Dataset into Training and Testing Sets"
   ]
  },
  {
   "cell_type": "markdown",
   "metadata": {},
   "source": [
    "### The cell below splits the dataset into training/testing sets. We use the test size as 20% (0.2), while the train size takes 80% (0.8)."
   ]
  },
  {
   "cell_type": "code",
   "execution_count": 14,
   "metadata": {},
   "outputs": [],
   "source": [
    "X_train, X_test, y_train, y_test = train_test_split(X, y, test_size=0.2, random_state=0)"
   ]
  },
  {
   "cell_type": "markdown",
   "metadata": {},
   "source": [
    "# STAGE 6\n",
    "## Model Building and Specification"
   ]
  },
  {
   "cell_type": "markdown",
   "metadata": {},
   "source": [
    "### The next cell represents developing the regression model, training the model using the training sets, as well as making predictions using the testing set."
   ]
  },
  {
   "cell_type": "code",
   "execution_count": 15,
   "metadata": {},
   "outputs": [],
   "source": [
    "model = LinearRegression()\n",
    "model.fit(X_train, y_train)\n",
    "y_pred = model.predict(X_test)"
   ]
  },
  {
   "cell_type": "markdown",
   "metadata": {},
   "source": [
    "### Now, we print the intercept and the regressors (regression coefficients), as well as the Mean Squared Error. The intercept and the regressors represent the parameters $\\beta_i$ in the model. Genereally, a _multiple linear regression model_ for 3 regressors is given as\n",
    "\\begin{equation}\n",
    "\\hat{y} = \\beta_0  + \\beta_1  X_1 + \\beta_2 X_2 + \\beta_3 X_3 + \\epsilon \n",
    "\\end{equation}\n",
    "\n",
    "### From the values obtained, the model can be given as \n",
    "\\begin{equation}\n",
    "Sales = 4.7732  + 0.0537 (TV) + 0.1115 (Radio) - 0.0034 (Newspaper)\n",
    "\\end{equation}"
   ]
  },
  {
   "cell_type": "code",
   "execution_count": 16,
   "metadata": {},
   "outputs": [
    {
     "name": "stdout",
     "output_type": "stream",
     "text": [
      "Intercept: \n",
      " [4.77288273]\n",
      "Coefficients: \n",
      " [[ 0.05367342  0.11147939 -0.00343957]]\n",
      "Mean squared error: 4.52\n"
     ]
    }
   ],
   "source": [
    "print('Intercept: \\n', model.intercept_)\n",
    "print('Coefficients: \\n', model.coef_)\n",
    "print('Mean squared error: %.2f'% mean_squared_error(y_test, y_pred))"
   ]
  },
  {
   "cell_type": "markdown",
   "metadata": {},
   "source": [
    "# STAGE 7\n",
    "## Comparison: Actual vs Predicted Values"
   ]
  },
  {
   "cell_type": "markdown",
   "metadata": {},
   "source": [
    "#### The next cell shows multiple bar plot of 20 random sample from the actual testing set, alongside the predicted values."
   ]
  },
  {
   "cell_type": "code",
   "execution_count": 17,
   "metadata": {},
   "outputs": [
    {
     "data": {
      "image/png": "[encoded data removed]",
      "text/plain": [
       "<Figure size 1152x720 with 1 Axes>"
      ]
     },
     "metadata": {
      "needs_background": "light"
     },
     "output_type": "display_data"
    }
   ],
   "source": [
    "d = {\"actual\":y_test.ravel(), \"predicted\":y_pred.ravel()}\n",
    "df1 = pd.DataFrame(d).sample(20)\n",
    "df1.plot(kind='bar',figsize=(16,10), rot = 0)\n",
    "plt.grid(which='major', linestyle='-', linewidth='0.5', color='green')\n",
    "plt.show()"
   ]
  },
  {
   "cell_type": "markdown",
   "metadata": {},
   "source": [
    "It can be seen from the multiple bar chart above that the actual values are not so many different from the predicted values for many of the observations."
   ]
  },
  {
   "cell_type": "code",
   "execution_count": 18,
   "metadata": {
    "scrolled": true
   },
   "outputs": [
    {
     "name": "stdout",
     "output_type": "stream",
     "text": [
      "Mean Absolute Error: 1.41\n",
      "Mean Squared Error: 4.52\n",
      "Root Mean Squared Error: 2.13\n"
     ]
    }
   ],
   "source": [
    "print('Mean Absolute Error: {t:2.2f}'.format(t = mean_absolute_error(y_test, y_pred)) )  \n",
    "print('Mean Squared Error: {t:2.2f}'.format(t = mean_squared_error(y_test, y_pred)))  \n",
    "print('Root Mean Squared Error: {t:2.2f}'.format(t = np.sqrt(mean_squared_error(y_test, y_pred))))"
   ]
  },
  {
   "cell_type": "markdown",
   "metadata": {},
   "source": [
    "### The cell below predicts the sale given an array that represents the costs of advertising on TV, Radio and Newspaper on 3 distinct occasions."
   ]
  },
  {
   "cell_type": "markdown",
   "metadata": {},
   "source": [
    "# STAGE 8\n",
    "## Model Accuracy"
   ]
  },
  {
   "cell_type": "markdown",
   "metadata": {},
   "source": [
    "#### The cell below shows the coefficient of determination. It tells the percentage of the response variable that is actually explained by the explanatory variable and also shows the level of fit of a model. \n",
    "#### A coefficient of determination of 0.86 (86%) shows that the model fits enough."
   ]
  },
  {
   "cell_type": "code",
   "execution_count": 19,
   "metadata": {
    "scrolled": true
   },
   "outputs": [
    {
     "name": "stdout",
     "output_type": "stream",
     "text": [
      "Coefficient of Multiple Determination: 0.86\n"
     ]
    }
   ],
   "source": [
    "print(\"Coefficient of Multiple Determination: %.2f\" % r2_score(y_test, y_pred))"
   ]
  },
  {
   "cell_type": "markdown",
   "metadata": {},
   "source": [
    "# STAGE 9\n",
    "## Prediction"
   ]
  },
  {
   "cell_type": "code",
   "execution_count": 20,
   "metadata": {},
   "outputs": [
    {
     "name": "stdout",
     "output_type": "stream",
     "text": [
      "[[100   2   3]\n",
      " [234  13 218]\n",
      " [ 50 241  94]]\n",
      "[[10.35286484]\n",
      " [18.03186806]\n",
      " [33.99976668]]\n"
     ]
    }
   ],
   "source": [
    "from numpy.random import *\n",
    "x_new=np.array([[100,2,3], [randint(1, 300) for i in range (3)], [randint(1, 300) for i in range (3)]])\n",
    "print(x_new)\n",
    "prediction = model.predict(x_new)\n",
    "print(prediction)"
   ]
  },
  {
   "cell_type": "markdown",
   "metadata": {},
   "source": [
    "## Summary and Conclusion \n",
    "\n",
    "The project entails determining a suitable model that would predict future sales (in thousands of the product) given the costs of advertising on TV, Radio and Newspaper, all in thousands of dollars. The dataset utilised for the project contains four variables: Costs of advert on TV, Radio, Newspaper, and their corresponding sales.\n",
    "\n",
    "Correlation matrix was used to investigate the extent of relationship between a pair of explanatory variable with the response variable. The cost of advert on TV was seen to be more correlated with the sales compared to the other explanatory variables. This implies that the more money spent on TV advert, the more likely sales to be generated.\n",
    "\n",
    "A multiple linear regression model was developed that would aid future prediction of sales given the costs of advertising on TV, Radio and Newspaper. The model was seen to be good enough for predicting sales considering that we had a coefficient of determination of $86 \\%$ and a small Mean Squared Error of $4.52$.\n",
    "\n",
    "From our analysis, we can advise the company to invest more on advertising on TV in order to generate more sales."
   ]
  }
 ],
 "metadata": {
  "kernelspec": {
   "display_name": "Python 3",
   "language": "python",
   "name": "python3"
  },
  "language_info": {
   "codemirror_mode": {
    "name": "ipython",
    "version": 3
   },
   "file_extension": ".py",
   "mimetype": "text/x-python",
   "name": "python",
   "nbconvert_exporter": "python",
   "pygments_lexer": "ipython3",
   "version": "3.8.8"
  }
 },
 "nbformat": 4,
 "nbformat_minor": 2
}
